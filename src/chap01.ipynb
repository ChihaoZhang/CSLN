{
 "cells": [
  {
   "cell_type": "markdown",
   "metadata": {},
   "source": [
    "# 第一章　概述\n",
    "\n",
    "作者：[王何宇](http://person.zju.edu.cn/wangheyu)\n",
    "\n",
    "[浙江大学数学科学学院](http://www.math.zju.edu.cn)\n",
    "\n",
    "本文档配合讲义第一章的内容。讲义中的代码和图形都可在此验证。"
   ]
  },
  {
   "cell_type": "code",
   "execution_count": 1,
   "metadata": {},
   "outputs": [],
   "source": [
    "# 这是一个常用的处理向量的数值计算库。\n",
    "import numpy as np\n",
    "# 构建奖品种类：羊和车。用了枚举类型。\n",
    "from enum import Enum\n",
    "Prize = Enum('Prize', ('car', 'goat'))\n",
    "# 随机数种子，固定的种子导致固定的伪随机序列。\n",
    "np.random.seed(250)"
   ]
  },
  {
   "cell_type": "markdown",
   "metadata": {},
   "source": [
    "## 程序例子：羊还是车？\n",
    "我们用Python来模拟羊还是车的不同策略结果。"
   ]
  },
  {
   "cell_type": "code",
   "execution_count": 5,
   "metadata": {},
   "outputs": [],
   "source": [
    "# 现在开始一个新游戏。\n",
    "def setup_game():\n",
    "    # 三扇门初始化成都藏了羊。\n",
    "    doors = [Prize.goat, Prize.goat, Prize.goat]\n",
    "    # 先随机挑选一扇门，将羊换成车。\n",
    "    car = np.random.randint(0, 3)\n",
    "    doors[car] = Prize.car\n",
    "    # 嘉宾挑选一扇门，然后主持人打开一扇藏有羊的门。\n",
    "    guest = np.random.randint(0, 3)\n",
    "    for host in range(0, 3):\n",
    "        # 既不是藏有车的门，也不是嘉宾挑选的\n",
    "        if host is not car and host is not guest:\n",
    "            break\n",
    "    return doors, guest, host"
   ]
  },
  {
   "cell_type": "markdown",
   "metadata": {},
   "source": [
    "接下去是激动人心的时刻，嘉宾策略..."
   ]
  },
  {
   "cell_type": "code",
   "execution_count": 6,
   "metadata": {},
   "outputs": [],
   "source": [
    "# 策略A, 打死也不换。这也是个函数，没毛病。\n",
    "def strategyA():\n",
    "    # do nothing.\n",
    "    return"
   ]
  },
  {
   "cell_type": "code",
   "execution_count": 7,
   "metadata": {},
   "outputs": [],
   "source": [
    "# 策略B, 换换更健康。\n",
    "def strategyB(doors, guest, host):\n",
    "    for door in range(0, 3):\n",
    "        # 既不是之前挑选的门，也不是主持人打开的\n",
    "        if door is not guest and door is not host:\n",
    "            break\n",
    "    return door"
   ]
  },
  {
   "cell_type": "markdown",
   "metadata": {},
   "source": [
    "接下去要浪一浪，分别对两种策略各重复这个游戏10000次，别忘了统计结果。"
   ]
  },
  {
   "cell_type": "code",
   "execution_count": 8,
   "metadata": {},
   "outputs": [],
   "source": [
    "def simulation(total):\n",
    "    # 嘉宾和主持人的选择，初始为-1。\n",
    "    win = 0\n",
    "    for i in range(total):\n",
    "        doors, guest, host = setup_game()\n",
    "        strategyA()\n",
    "        if doors[guest] is Prize.car:\n",
    "            win = win + 1\n",
    "    print(\"win rate of never exchange:\", win/total)\n",
    "    win = 0\n",
    "    for i in range(total):\n",
    "        doors, guest,host = setup_game()\n",
    "        guest = strategyB(doors, guest, host)\n",
    "        if doors[guest] is Prize.car:\n",
    "            win = win + 1\n",
    "    print(\"win rate of exchange:\", win/total)\n",
    "    return"
   ]
  },
  {
   "cell_type": "markdown",
   "metadata": {},
   "source": [
    "结果如下。"
   ]
  },
  {
   "cell_type": "code",
   "execution_count": 9,
   "metadata": {},
   "outputs": [
    {
     "name": "stdout",
     "output_type": "stream",
     "text": [
      "win rate of never exchange: 0.3357\n",
      "win rate of exchange: 0.671\n"
     ]
    }
   ],
   "source": [
    "simulation(10000)"
   ]
  },
  {
   "cell_type": "markdown",
   "metadata": {},
   "source": [
    "这是一个很有说服力的结果。这里考虑到部分同学是首次接触Python，所以不论算法还是程序我都采用了比较朴素的做法。可以进一步优化这个算法，但要注意不能丢掉的是随机性。在程序结构上，更好的做法是将游戏改成一个类。这个我们在后续的模拟中会逐步实现。"
   ]
  },
  {
   "cell_type": "markdown",
   "metadata": {},
   "source": [
    "## 程序例子：求圆面积\n",
    "\n",
    "接下去这个例子我们用随机投点来计算一个圆的面积。我们不如先画一个圆，顺便可以熟悉一下Python作图。先导入Python的绘图库。"
   ]
  },
  {
   "cell_type": "code",
   "execution_count": 10,
   "metadata": {},
   "outputs": [],
   "source": [
    "import matplotlib.pyplot as plt"
   ]
  },
  {
   "cell_type": "markdown",
   "metadata": {},
   "source": [
    "下面这段代码就是讲义中对应插图的来源。一个内接在单位正方形的圆，同时对正方形内做了随机投点。"
   ]
  },
  {
   "cell_type": "code",
   "execution_count": 11,
   "metadata": {},
   "outputs": [
    {
     "data": {
      "image/png": "[encoded data removed]",
      "text/plain": [
       "<Figure size 432x288 with 1 Axes>"
      ]
     },
     "metadata": {},
     "output_type": "display_data"
    }
   ],
   "source": [
    "np.random.seed(250)\n",
    "dots = np.random.rand(2, 500)\n",
    "#print(dots[:,1])\n",
    "theta = np.linspace(0, 2 * np.pi, 100)\n",
    "plt.plot(dots[0, :], dots[1, :], '.', 0.5 + 0.5 * np.cos(theta), 0.5 + 0.5 * np.sin(theta))\n",
    "axs = plt.gca()\n",
    "axs.set_aspect('equal', 'box')\n",
    "plt.axis([0, 1, 0, 1])\n",
    "plt.xticks(np.arange(0, 1, 0.1))\n",
    "plt.yticks(np.arange(0, 1, 0.1))\n",
    "plt.grid(True)\n",
    "plt.savefig(\"circle.pdf\")"
   ]
  },
  {
   "cell_type": "markdown",
   "metadata": {},
   "source": [
    "下面这段程序才是用Monte Carlo法计算圆面积。"
   ]
  },
  {
   "cell_type": "code",
   "execution_count": null,
   "metadata": {},
   "outputs": [],
   "source": [
    "def area_circle(times):\n",
    "    inside = 0\n",
    "    dots = np.random.rand(2, times)\n",
    "    for i in range(times):\n",
    "        x = dots[0, i] - 0.5\n",
    "        y = dots[1, i] - 0.5\n",
    "        if x * x + y * y < 0.25:\n",
    "            inside += 1\n",
    "    return inside / times"
   ]
  },
  {
   "cell_type": "markdown",
   "metadata": {},
   "source": [
    "结果如下："
   ]
  },
  {
   "cell_type": "code",
   "execution_count": null,
   "metadata": {},
   "outputs": [],
   "source": [
    "area_circle(10000)"
   ]
  },
  {
   "cell_type": "markdown",
   "metadata": {},
   "source": [
    "由于我们在计算圆面积时根本没有使用圆面积公式，所以我们这里可以利用圆面积来求$\\Pi$："
   ]
  },
  {
   "cell_type": "code",
   "execution_count": null,
   "metadata": {},
   "outputs": [],
   "source": [
    "pi = area_circle(10000) * 4\n",
    "print(pi)"
   ]
  },
  {
   "cell_type": "markdown",
   "metadata": {},
   "source": [
    "注意每次求得的$\\Pi$值都会有波动。下面连续模拟了100次，每次都是10000个采样。"
   ]
  },
  {
   "cell_type": "code",
   "execution_count": null,
   "metadata": {},
   "outputs": [],
   "source": [
    "for i in range(100):\n",
    "    pi = area_circle(10000) * 4\n",
    "    plt.plot(i, pi, 'b.')\n",
    "plt.plot([0, 99], [np.pi, np.pi], 'r--', label = \"$\\pi$\")\n",
    "plt.axis([0, 99, np.pi + 0.1, np.pi - 0.1])\n",
    "plt.legend()\n",
    "plt.savefig(\"variation.pdf\")"
   ]
  },
  {
   "cell_type": "markdown",
   "metadata": {},
   "source": [
    "而采样数和精度，或者说波动之间的关系也很明显。在下面的代码中我们变化采样次数，可以看到，随着采样数的增加，模拟得到的$\\Pi$值越来越精确，或者说，波动越来越小。"
   ]
  },
  {
   "cell_type": "code",
   "execution_count": null,
   "metadata": {},
   "outputs": [],
   "source": [
    "n = np.logspace(2, 5, 1000)\n",
    "pi = [area_circle(int(i)) * 4 for i in n]\n",
    "plt.plot(n, pi, '.')\n",
    "plt.plot([n[0], n[-1]], [np.pi, np.pi], '--', label = \"$\\pi$\")\n",
    "plt.xscale('log')\n",
    "plt.axis([n[0], n[-1], np.pi + 0.3, np.pi - 0.3])\n",
    "plt.legend()\n",
    "plt.savefig(\"number2variation.pdf\")"
   ]
  },
  {
   "cell_type": "code",
   "execution_count": null,
   "metadata": {},
   "outputs": [],
   "source": []
  }
 ],
 "metadata": {
  "kernelspec": {
   "display_name": "Python 3",
   "language": "python",
   "name": "python3"
  },
  "language_info": {
   "codemirror_mode": {
    "name": "ipython",
    "version": 3
   },
   "file_extension": ".py",
   "mimetype": "text/x-python",
   "name": "python",
   "nbconvert_exporter": "python",
   "pygments_lexer": "ipython3",
   "version": "3.6.5"
  }
 },
 "nbformat": 4,
 "nbformat_minor": 2
}
