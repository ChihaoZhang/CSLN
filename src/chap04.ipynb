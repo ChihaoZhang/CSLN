{
 "cells": [
  {
   "cell_type": "markdown",
   "metadata": {},
   "source": [
    "# 第四章　Monte Carlo法：估算体积和计数\n",
    "\n",
    "作者：[王何宇](http://person.zju.edu.cn/wangheyu)\n",
    "\n",
    "[浙江大学数学科学学院](http://www.math.zju.edu.cn)\n",
    "\n",
    "本文档配合讲义第四章。讲义中的代码和图形都可在此验证。"
   ]
  },
  {
   "cell_type": "code",
   "execution_count": 1,
   "metadata": {},
   "outputs": [],
   "source": [
    "from __future__ import print_function, division\n",
    "\n",
    "# 这句话是非标准的python，用于ipthon或jupyter这样的系统中，表示绘图即刻自动展开。\n",
    "%matplotlib inline\n",
    "\n",
    "# 这里把全部Warning过滤掉了. \n",
    "# 参见https://docs.python.org/2/library/warnings.html\n",
    "import warnings\n",
    "warnings.filterwarnings('ignore')\n",
    "from scipy.special import comb, perm\n",
    "from scipy import stats\n",
    "import numpy as np\n",
    "import sys\n",
    "import matplotlib.pyplot as plt\n",
    "np.random.seed(250)"
   ]
  },
  {
   "cell_type": "markdown",
   "metadata": {},
   "source": [
    "## 体积\n",
    "下面是一个$m = 2$的单位正方形和均匀格点。"
   ]
  },
  {
   "cell_type": "code",
   "execution_count": 2,
   "metadata": {},
   "outputs": [],
   "source": [
    "def mesh_generator(k):\n",
    "    zi = range(k)\n",
    "    for z1 in zi:\n",
    "        for z2 in zi:\n",
    "            xi = (z1 + 1/2)/k\n",
    "            yi = (z2 + 1/2)/k\n",
    "            plt.scatter(xi, yi, color='b',marker='.', s=5)\n",
    "    plt.xlim(0.0, 1.0)\n",
    "    plt.ylim(0.0, 1.0)\n",
    "    axs = plt.gca()\n",
    "    axs.set_aspect('equal', 'box')\n",
    "    return"
   ]
  },
  {
   "cell_type": "markdown",
   "metadata": {},
   "source": [
    "产生一个$10 \\times 10$的网格。"
   ]
  },
  {
   "cell_type": "code",
   "execution_count": 3,
   "metadata": {},
   "outputs": [
    {
     "data": {
      "image/png": "[encoded data removed]",
      "text/plain": [
       "<Figure size 432x288 with 1 Axes>"
      ]
     },
     "metadata": {},
     "output_type": "display_data"
    }
   ],
   "source": [
    "mesh_generator(10)\n",
    "plt.xticks(fontsize=15)\n",
    "plt.yticks(fontsize=15)\n",
    "plt.xlabel(r'x',fontsize=15) \n",
    "plt.xlabel(r'$x_1$',fontsize=15)\n",
    "plt.ylabel(r'$x_2$',fontsize=15)\n",
    "plt.savefig(r'lattice.pdf')"
   ]
  },
  {
   "cell_type": "markdown",
   "metadata": {},
   "source": [
    "还记得我们之前学过的一个对正态分布的反函数做有理逼近的算法么？"
   ]
  },
  {
   "cell_type": "code",
   "execution_count": 4,
   "metadata": {},
   "outputs": [],
   "source": [
    "def inv_normal(y):\n",
    "    c0 = 2.515517\n",
    "    c1 = 0.802853\n",
    "    c2 = 0.010328\n",
    "    d1 = 1.432788\n",
    "    d2 = 0.189269\n",
    "    d3 = 0.001308\n",
    "    t = np.sqrt(-np.log((min(y, 1 - y))**2))\n",
    "    S1 = c0 + c1 * t + c2 * t**2\n",
    "    S2 = 1 + d1 * t + d2 * t**2 + d3 * t**3\n",
    "    S = t - S1 / S2\n",
    "    w = y - 0.5\n",
    "    if (w >= 0):\n",
    "        F = S\n",
    "    else:\n",
    "        F = -S\n",
    "    return F"
   ]
  },
  {
   "cell_type": "markdown",
   "metadata": {},
   "source": [
    "我们用拟变换来生成一个正态分布采样看？"
   ]
  },
  {
   "cell_type": "code",
   "execution_count": 5,
   "metadata": {},
   "outputs": [],
   "source": [
    "def sample_Normal(U):\n",
    "    return [inv_normal(u) for u in U]"
   ]
  },
  {
   "cell_type": "code",
   "execution_count": 6,
   "metadata": {},
   "outputs": [],
   "source": [
    "U = np.random.rand(1000000)\n",
    "X = sample_Normal(U)"
   ]
  },
  {
   "cell_type": "markdown",
   "metadata": {},
   "source": [
    "看一下采样效果。"
   ]
  },
  {
   "cell_type": "code",
   "execution_count": 7,
   "metadata": {},
   "outputs": [
    {
     "data": {
      "text/plain": [
       "Text(0.5,0,'Statistical Test of Standard Samples by Approximation Inverse Transform Method')"
      ]
     },
     "execution_count": 7,
     "metadata": {},
     "output_type": "execute_result"
    },
    {
     "data": {
      "image/png": "[encoded data removed]",
      "text/plain": [
       "<Figure size 432x288 with 1 Axes>"
      ]
     },
     "metadata": {},
     "output_type": "display_data"
    }
   ],
   "source": [
    "x = np.linspace(0,6,10000)\n",
    "f = 1/np.sqrt(np.pi * 2) * np.exp(-x**2/2)\n",
    "plt.hist(X, bins=200,normed=True, label=\"Stat. of the Sampling\");\n",
    "plt.plot(x, f, label=r\"PDF\")\n",
    "plt.legend()\n",
    "plt.xlabel(r\"Statistical Test of Standard Samples by Approximation Inverse Transform Method\")"
   ]
  },
  {
   "cell_type": "markdown",
   "metadata": {},
   "source": [
    "似乎不错哦。然后我们再次回顾一下第一章的用于计算圆面积的程序。我们注意到它和MC算法其实是一致的。但是并没有给出统计检验部分。"
   ]
  },
  {
   "cell_type": "code",
   "execution_count": 8,
   "metadata": {
    "scrolled": true
   },
   "outputs": [],
   "source": [
    "def area_circle(times):\n",
    "    inside = 0\n",
    "    dots = np.random.rand(2, times)\n",
    "    for i in range(times):\n",
    "        x = dots[0, i] - 0.5\n",
    "        y = dots[1, i] - 0.5\n",
    "        if x * x + y * y < 0.25:\n",
    "            inside += 1\n",
    "    return inside / times"
   ]
  },
  {
   "cell_type": "markdown",
   "metadata": {},
   "source": [
    "我们现在来验证我们的统计估计。"
   ]
  },
  {
   "cell_type": "markdown",
   "metadata": {},
   "source": [
    "如果我们的$n = 10000$，那么我们的误差会是多少？根据Chebshev不等式，我们可以计算\n",
    "$$\n",
    "n_C = \\frac{1}{4 \\delta \\varepsilon^2},\n",
    "$$\n",
    "我们令$\\delta = 0.01$，也就是说绝对误差小于$\\varepsilon$的概率要大于百分之99。此时，\n",
    "$$\n",
    "\\varepsilon = \\sqrt{\\frac{1}{4 n_C \\delta}} = \\sqrt{\\frac{1}{4 \\times 10000 \\times 0.01}} = \\frac{1}{20} = 0.05.\n",
    "$$\n",
    "我们实际计算一下误差的分布："
   ]
  },
  {
   "cell_type": "code",
   "execution_count": 9,
   "metadata": {},
   "outputs": [
    {
     "data": {
      "image/png": "[encoded data removed]",
      "text/plain": [
       "<Figure size 432x288 with 1 Axes>"
      ]
     },
     "metadata": {},
     "output_type": "display_data"
    }
   ],
   "source": [
    "T = 1000  \n",
    "n = 10000\n",
    "abs_err = np.zeros(T)\n",
    "for i in range(T):\n",
    "    abs_err[i] = (area_circle(n) - np.pi / 4)\n",
    "plt.hist(abs_err, bins=50, normed=True, label=\"Stat. of the Sampling\");"
   ]
  },
  {
   "cell_type": "markdown",
   "metadata": {},
   "source": [
    "远好于我们的估计，说明我们的估计太保守了。现在来看利用大数定理的估计：\n",
    "$$\n",
    "n_N = \\left[\\frac{\\Phi^{-1}(1 - \\frac{\\delta}{2})}{2 \\varepsilon}\\right]^2,\n",
    "$$\n",
    "同样令$\\delta = 0.01$，则\n",
    "$$\n",
    "\\varepsilon = \\frac{\\Phi^{-1}(0.995)}{\\sqrt{2 n_N}}.\n",
    "$$\n",
    "这个我们用上面的有理逼近帮一下，当然正常的方式是查表。"
   ]
  },
  {
   "cell_type": "code",
   "execution_count": 10,
   "metadata": {},
   "outputs": [
    {
     "name": "stdout",
     "output_type": "stream",
     "text": [
      "0.018216740030314548\n"
     ]
    }
   ],
   "source": [
    "delta = 0.01\n",
    "eps = inv_normal(1 - delta/2) / np.sqrt(2 * n)\n",
    "print(eps)"
   ]
  },
  {
   "cell_type": "markdown",
   "metadata": {},
   "source": [
    "这个估计要好的多。"
   ]
  },
  {
   "cell_type": "code",
   "execution_count": 11,
   "metadata": {},
   "outputs": [
    {
     "name": "stdout",
     "output_type": "stream",
     "text": [
      "0.016276236307187292\n"
     ]
    }
   ],
   "source": [
    "eps = np.sqrt(np.log(2/delta)/(2*n))\n",
    "print(eps)"
   ]
  },
  {
   "cell_type": "markdown",
   "metadata": {},
   "source": [
    "这个已经很准了。反过来，如果我们希望偏差在0.01（百分之一）以内的概率大于0.999，也即$\\delta = 0.001$，那么用最后一个估计来计算，则至少需要样本数为："
   ]
  },
  {
   "cell_type": "code",
   "execution_count": 12,
   "metadata": {},
   "outputs": [
    {
     "data": {
      "text/plain": [
       "38004.51229771041"
      ]
     },
     "execution_count": 12,
     "metadata": {},
     "output_type": "execute_result"
    }
   ],
   "source": [
    "delta_fine = 0.001\n",
    "eps = 0.01\n",
    "2 * np.log(2 / delta_fine) / (4 * (eps)**2)"
   ]
  },
  {
   "cell_type": "markdown",
   "metadata": {},
   "source": [
    "至少需要38005个样本点。\n",
    "\n",
    "对于一些较难用数值方法计算的复杂的图形，比如：\n",
    "$$\n",
    "\\int_0^1\\sin(\\frac{1}{x}) dx,\n",
    "$$\n",
    "用Monte Carlo法计算其曲线下面积（实际就是积分），毫无困难。我们甚至不需要对程序的算法部分做任何修改。先画一下我们要求面积的部分："
   ]
  },
  {
   "cell_type": "code",
   "execution_count": 13,
   "metadata": {},
   "outputs": [
    {
     "data": {
      "text/plain": [
       "[<matplotlib.lines.Line2D at 0x7f12ed472470>]"
      ]
     },
     "execution_count": 13,
     "metadata": {},
     "output_type": "execute_result"
    },
    {
     "data": {
      "image/png": "[encoded data removed]",
      "text/plain": [
       "<Figure size 432x288 with 1 Axes>"
      ]
     },
     "metadata": {},
     "output_type": "display_data"
    }
   ],
   "source": [
    "x = np.logspace(-100, 0, 100000)\n",
    "plt.plot(x, 0.5 * np.sin(1/x) + 0.5)"
   ]
  },
  {
   "cell_type": "code",
   "execution_count": 17,
   "metadata": {},
   "outputs": [
    {
     "data": {
      "text/plain": [
       "[<matplotlib.lines.Line2D at 0x7f12ed037d30>]"
      ]
     },
     "execution_count": 17,
     "metadata": {},
     "output_type": "execute_result"
    },
    {
     "data": {
      "image/png": "[encoded data removed]",
      "text/plain": [
       "<Figure size 432x288 with 1 Axes>"
      ]
     },
     "metadata": {},
     "output_type": "display_data"
    }
   ],
   "source": [
    "x = np.linspace(0, 1, 100)\n",
    "plt.plot(x, 0.5 * np.sin(1/x) + 0.5)"
   ]
  },
  {
   "cell_type": "markdown",
   "metadata": {},
   "source": [
    "除了目标函数不一样，其他部分和求圆面积完全一样。"
   ]
  },
  {
   "cell_type": "code",
   "execution_count": 18,
   "metadata": {},
   "outputs": [],
   "source": [
    "def area_sin1_x(times):\n",
    "    inside = 0\n",
    "    dots = np.random.rand(2, times)\n",
    "    for i in range(times):\n",
    "        x = dots[0, i] - 0.5\n",
    "        y = dots[1, i] - 0.5\n",
    "        if y < 0.5 * np.sin(1/x) + 0.5:   # 只改了目标函数部分\n",
    "            inside += 1\n",
    "    return inside / times"
   ]
  },
  {
   "cell_type": "markdown",
   "metadata": {},
   "source": [
    "先暴力一下给个参考解。"
   ]
  },
  {
   "cell_type": "code",
   "execution_count": 19,
   "metadata": {},
   "outputs": [
    {
     "name": "stdout",
     "output_type": "stream",
     "text": [
      "0.848843\n"
     ]
    }
   ],
   "source": [
    "lambda_n = area_sin1_x(1000000)\n",
    "print(lambda_n)"
   ]
  },
  {
   "cell_type": "markdown",
   "metadata": {},
   "source": [
    "连统计过程也一毛一样。可见MC方法对具体区域形状不敏感。这是它的另一个优势。"
   ]
  },
  {
   "cell_type": "code",
   "execution_count": 20,
   "metadata": {},
   "outputs": [
    {
     "data": {
      "image/png": "[encoded data removed]",
      "text/plain": [
       "<Figure size 432x288 with 1 Axes>"
      ]
     },
     "metadata": {},
     "output_type": "display_data"
    }
   ],
   "source": [
    "T = 1000\n",
    "abs_err = np.zeros(T)\n",
    "for i in range(T):\n",
    "    abs_err[i] = (area_sin1_x(n) - lambda_n)\n",
    "plt.hist(abs_err, bins=50, normed=True, label=\"Stat. of the Sampling\");"
   ]
  },
  {
   "cell_type": "markdown",
   "metadata": {},
   "source": [
    "下面来看一下讲义中最后一个样本数估计如何实现。这里我们需要求解一个最大值，而且根据理论结果，$w$函数是凹的，也就是我们只要求其导数的零点就行。而为了求导数零点，我们可以构建一个Newton迭代，于是还要再求2阶导数。这个函数尽管是初等函数，但求导过程不会很愉快，我们用Python的符号计算扩展包：Sympy来帮助我们。下面就是调用Sympy，声明e和u为符号，然后定义w，并对w求一次导。"
   ]
  },
  {
   "cell_type": "code",
   "execution_count": 23,
   "metadata": {},
   "outputs": [
    {
     "data": {
      "text/plain": [
       "(-e*u + e*(u - 1) + u*(u - 1)*(log(u/(e + u)) - log((u - 1)/(e + u - 1))))/(u*(u - 1))"
      ]
     },
     "execution_count": 23,
     "metadata": {},
     "output_type": "execute_result"
    }
   ],
   "source": [
    "import sympy as sym\n",
    "e, u = sym.symbols('e,u', positive=True)\n",
    "w = ((u + e) * sym.log(u/(u + e)) + (1 - u - e)* sym.log((1 - u)/(1 - u - e)))\n",
    "sym.simplify(sym.diff(w, u))"
   ]
  },
  {
   "cell_type": "markdown",
   "metadata": {},
   "source": [
    "再求其2阶导。"
   ]
  },
  {
   "cell_type": "code",
   "execution_count": 25,
   "metadata": {},
   "outputs": [
    {
     "data": {
      "text/plain": [
       "e*(-u**2*(e + u)*(u - 1) + u**2*(e + u)*(e + u - 1) + u*(u - 1)**2*(e + u - 1) - (e + u)*(u - 1)**2*(e + u - 1))/(u**2*(e + u)*(u - 1)**2*(e + u - 1))"
      ]
     },
     "execution_count": 25,
     "metadata": {},
     "output_type": "execute_result"
    }
   ],
   "source": [
    "sym.simplify(sym.diff(w,u,2))"
   ]
  },
  {
   "cell_type": "markdown",
   "metadata": {},
   "source": [
    "注意我们已经调用了simplify函数，但大家注意到上面两个形式并不是最简。计算机对最简的理解和人类是不一样的。有节操的同学可以继续化简，不过这个只要等价对计算机也区别不大。但注意上面的形式都是符号计算，我们要转换成Python的函数以便于数值计算。复制粘帖下去，再把log改成np.log就行了。"
   ]
  },
  {
   "cell_type": "code",
   "execution_count": 26,
   "metadata": {},
   "outputs": [],
   "source": [
    "def hoeffding_w(e, u):\n",
    "    return ((u + e) * np.log(u/(u + e)) + (1 - u - e)* np.log((1 - u)/(1 - u - e)))"
   ]
  },
  {
   "cell_type": "code",
   "execution_count": 27,
   "metadata": {},
   "outputs": [],
   "source": [
    "def hoeffding_dw(e, u):\n",
    "    return ((-e*u + e*(u - 1) + u*(u - 1)*(np.log(u/(e + u)) - np.log((u - 1)/(e + u - 1))))/(u*(u - 1)))"
   ]
  },
  {
   "cell_type": "code",
   "execution_count": 28,
   "metadata": {},
   "outputs": [],
   "source": [
    "def hoeffding_d2w(e, u):\n",
    "    return (e*(-u**2*(e + u)*(u - 1) + u**2*(e + u)*(e + u - 1) + u*(u - 1)**2*(e + u - 1) - (e + u)*(u - 1)**2*(e + u - 1))/(u**2*(e + u)*(u - 1)**2*(e + u - 1)))"
   ]
  },
  {
   "cell_type": "markdown",
   "metadata": {},
   "source": [
    "人肉Newton迭代了解一下："
   ]
  },
  {
   "cell_type": "code",
   "execution_count": 29,
   "metadata": {},
   "outputs": [
    {
     "name": "stdout",
     "output_type": "stream",
     "text": [
      "0.483400287311757 2.9848291220003233e-06\n"
     ]
    }
   ],
   "source": [
    "eps=0.05\n",
    "delta=0.01\n",
    "u0=0.5\n",
    "u1 = u0 - hoeffding_dw(eps,u0)/hoeffding_d2w(eps,u0)\n",
    "err=np.abs(hoeffding_dw(eps,u1))\n",
    "print(u1,err)"
   ]
  },
  {
   "cell_type": "code",
   "execution_count": 30,
   "metadata": {},
   "outputs": [
    {
     "name": "stdout",
     "output_type": "stream",
     "text": [
      "0.4833259153323706 3.2487948870663016e-13\n"
     ]
    }
   ],
   "source": [
    "u0=u1\n",
    "u1 = u0 - hoeffding_dw(eps,u0)/hoeffding_d2w(eps,u0)\n",
    "err=np.abs(hoeffding_dw(eps,u1))\n",
    "print(u1,err)"
   ]
  },
  {
   "cell_type": "code",
   "execution_count": 31,
   "metadata": {},
   "outputs": [
    {
     "name": "stdout",
     "output_type": "stream",
     "text": [
      "0.4833259153242757 8.335943090326242e-17\n"
     ]
    }
   ],
   "source": [
    "u0=u1\n",
    "u1 = u0 - hoeffding_dw(eps,u0)/hoeffding_d2w(eps,u0)\n",
    "err=np.abs(hoeffding_dw(eps,u1))\n",
    "print(u1,err)"
   ]
  },
  {
   "cell_type": "markdown",
   "metadata": {},
   "source": [
    "根据理论结果，此时，$w$取到最大值："
   ]
  },
  {
   "cell_type": "code",
   "execution_count": 32,
   "metadata": {},
   "outputs": [
    {
     "name": "stdout",
     "output_type": "stream",
     "text": [
      "-0.0050027814879907845\n"
     ]
    }
   ],
   "source": [
    "print(hoeffding_w(eps,u1))"
   ]
  },
  {
   "cell_type": "markdown",
   "metadata": {},
   "source": [
    "对应的有，关于$\\varepsilon = 0.05$，$\\delta = 0.01$的样本数量估计："
   ]
  },
  {
   "cell_type": "code",
   "execution_count": 33,
   "metadata": {},
   "outputs": [
    {
     "name": "stdout",
     "output_type": "stream",
     "text": [
      "1059.0743128131196\n"
     ]
    }
   ],
   "source": [
    "n=-np.log(2/delta)/hoeffding_w(eps,u1)\n",
    "print(n)"
   ]
  },
  {
   "cell_type": "markdown",
   "metadata": {},
   "source": [
    "我们再对比一下之前的$\\delta = 0.001$和$\\varepsilon = 0.01$的估计："
   ]
  },
  {
   "cell_type": "code",
   "execution_count": 34,
   "metadata": {},
   "outputs": [
    {
     "name": "stdout",
     "output_type": "stream",
     "text": [
      "0.49666720009141285 9.484263502333254e-10\n"
     ]
    }
   ],
   "source": [
    "delta_fine = 0.001\n",
    "eps = 0.01\n",
    "u0=0.5\n",
    "u1 = u0 - hoeffding_dw(eps,u0)/hoeffding_d2w(eps,u0)\n",
    "err=np.abs(hoeffding_dw(eps,u1))\n",
    "print(u1,err)"
   ]
  },
  {
   "cell_type": "markdown",
   "metadata": {},
   "source": [
    "再次人肉Newton迭代（Newton迭代必须在几步内收敛）："
   ]
  },
  {
   "cell_type": "code",
   "execution_count": 35,
   "metadata": {},
   "outputs": [
    {
     "name": "stdout",
     "output_type": "stream",
     "text": [
      "0.4966666074039795 8.327042788638943e-17\n"
     ]
    }
   ],
   "source": [
    "u0=u1\n",
    "u1 = u0 - hoeffding_dw(eps,u0)/hoeffding_d2w(eps,u0)\n",
    "err=np.abs(hoeffding_dw(eps,u1))\n",
    "print(u1,err)"
   ]
  },
  {
   "cell_type": "markdown",
   "metadata": {},
   "source": [
    "此时$w$最大值为："
   ]
  },
  {
   "cell_type": "code",
   "execution_count": 36,
   "metadata": {},
   "outputs": [
    {
     "name": "stdout",
     "output_type": "stream",
     "text": [
      "-0.0002000044446814845\n"
     ]
    }
   ],
   "source": [
    "print(hoeffding_w(eps,u1))"
   ]
  },
  {
   "cell_type": "markdown",
   "metadata": {},
   "source": [
    "样本数量估计为："
   ]
  },
  {
   "cell_type": "code",
   "execution_count": 37,
   "metadata": {},
   "outputs": [
    {
     "name": "stdout",
     "output_type": "stream",
     "text": [
      "38003.66772671897\n"
     ]
    }
   ],
   "source": [
    "n=-np.log(2/0.001)/hoeffding_w(eps,u1)\n",
    "print(n)"
   ]
  },
  {
   "cell_type": "markdown",
   "metadata": {},
   "source": [
    "和之前的估计几乎一毛一样...（少了1）\n",
    "\n",
    "接下去我们讨论区间估计。首先我们做一个实验，当$\\lambda = 0.005$时，我们看一下实际上的模拟结果是如何分布的。为此我们还是调出之前编写的求圆面积的MC程序，反正MC方法对具体形状并不敏感。"
   ]
  },
  {
   "cell_type": "code",
   "execution_count": 21,
   "metadata": {},
   "outputs": [],
   "source": [
    "def area_circle_small(times):\n",
    "    inside = 0\n",
    "    dots = np.random.rand(2, times)\n",
    "    for i in range(times):\n",
    "        x = dots[0, i] - 0.5\n",
    "        y = dots[1, i] - 0.5\n",
    "        if x * x + y * y < 0.005 / np.pi:\n",
    "            inside += 1\n",
    "    return inside"
   ]
  },
  {
   "cell_type": "markdown",
   "metadata": {},
   "source": [
    "我们可以观察到频数$S$大大降低。这是正常的。"
   ]
  },
  {
   "cell_type": "code",
   "execution_count": 38,
   "metadata": {},
   "outputs": [
    {
     "name": "stdout",
     "output_type": "stream",
     "text": [
      "7 6.957957957957958e-06\n"
     ]
    }
   ],
   "source": [
    "n = 1000\n",
    "S = area_circle_small(1000)\n",
    "V = S / n * (1 - S / n) / (n - 1)\n",
    "print(S, V)"
   ]
  },
  {
   "cell_type": "markdown",
   "metadata": {},
   "source": [
    "如果我们做多次模拟并加以统计，我们能够得到实际频率的分布。"
   ]
  },
  {
   "cell_type": "code",
   "execution_count": 22,
   "metadata": {},
   "outputs": [
    {
     "data": {
      "image/png": "[encoded data removed]",
      "text/plain": [
       "<Figure size 432x288 with 1 Axes>"
      ]
     },
     "metadata": {},
     "output_type": "display_data"
    }
   ],
   "source": [
    "# 这个程序会很慢！\n",
    "T = 50000  \n",
    "n = 1000\n",
    "abs_err = np.zeros(T)\n",
    "for i in range(T):\n",
    "    abs_err[i] = (area_circle_small(n) / n - 0.005)\n",
    "plt.hist(abs_err, bins=40, normed=True, label=\"Stat. of the Sampling\");\n",
    "plt.legend()\n",
    "plt.xlabel(r\"Statistical Test of Frequency\")\n",
    "plt.savefig(\"bais_lambda_n.pdf\")"
   ]
  },
  {
   "cell_type": "markdown",
   "metadata": {},
   "source": [
    "上面的结果其实很好理解，因为$\\lambda$本身就只有$0.005$，因此负方向最多只能再偏$0.005$，如果实际偏差会大于$\\lambda$，那么在正方向和负方向就不会对称。事实上由于这种\"边界\"效应，除了$\\lambda = 0.5$以外，置信区间都不会对称。\n",
    "\n",
    "下面为了理解二项分布的累计分布函数，我们先从定义出发绘制，所以我们需要调用组合函数。"
   ]
  },
  {
   "cell_type": "code",
   "execution_count": 39,
   "metadata": {},
   "outputs": [],
   "source": [
    "# 调这个包为了计算组合数\n",
    "from scipy.special import comb"
   ]
  },
  {
   "cell_type": "markdown",
   "metadata": {},
   "source": [
    "计算10000取4。精确计算组合数是一个指数时间算法，在实际计算机模拟中不能接受。这里只是作为教学演示。然后我们会讨论如何避免直接计算。"
   ]
  },
  {
   "cell_type": "code",
   "execution_count": 40,
   "metadata": {},
   "outputs": [
    {
     "data": {
      "text/plain": [
       "416416712497500.0"
      ]
     },
     "execution_count": 40,
     "metadata": {},
     "output_type": "execute_result"
    }
   ],
   "source": [
    "comb(10000,4)   "
   ]
  },
  {
   "cell_type": "markdown",
   "metadata": {},
   "source": [
    "严格从定义出发构建二项分布的累积分布函数："
   ]
  },
  {
   "cell_type": "code",
   "execution_count": 41,
   "metadata": {},
   "outputs": [],
   "source": [
    "def binomial_CDF(n, mu, i):\n",
    "    F = 0\n",
    "    for j in range(i + 1):\n",
    "        F += comb(n, j) * mu**j * (1 - mu)**(n - j)\n",
    "    return F"
   ]
  },
  {
   "cell_type": "markdown",
   "metadata": {},
   "source": [
    "我们可以绘制一下它关于参数$\\mu$的变化情况："
   ]
  },
  {
   "cell_type": "code",
   "execution_count": 42,
   "metadata": {},
   "outputs": [
    {
     "data": {
      "text/plain": [
       "[<matplotlib.lines.Line2D at 0x7f12e74accf8>]"
      ]
     },
     "execution_count": 42,
     "metadata": {},
     "output_type": "execute_result"
    },
    {
     "data": {
      "image/png": "[encoded data removed]",
      "text/plain": [
       "<Figure size 432x288 with 1 Axes>"
      ]
     },
     "metadata": {},
     "output_type": "display_data"
    }
   ],
   "source": [
    "x = np.linspace(0, 1, 100)\n",
    "plt.plot(x, binomial_CDF(1000, x, 323))"
   ]
  },
  {
   "cell_type": "markdown",
   "metadata": {},
   "source": [
    "上面是关于参数$\\mu$的变化，下面是固定$n = 100$，$\\mu = 0.5$的累计分布函数："
   ]
  },
  {
   "cell_type": "code",
   "execution_count": 43,
   "metadata": {},
   "outputs": [
    {
     "data": {
      "text/plain": [
       "[<matplotlib.lines.Line2D at 0x7f12e72d7b70>]"
      ]
     },
     "execution_count": 43,
     "metadata": {},
     "output_type": "execute_result"
    },
    {
     "data": {
      "image/png": "[encoded data removed]",
      "text/plain": [
       "<Figure size 432x288 with 1 Axes>"
      ]
     },
     "metadata": {},
     "output_type": "display_data"
    }
   ],
   "source": [
    "x = [i for i in range(100)]\n",
    "y = [binomial_CDF(100, 0.5, i) for i in range(100)]\n",
    "plt.plot(x, y)"
   ]
  },
  {
   "cell_type": "markdown",
   "metadata": {},
   "source": [
    "为了计算二项分布的累计分布函数的逆变换，我们将其转化为不完全Beta函数来计算："
   ]
  },
  {
   "cell_type": "code",
   "execution_count": 44,
   "metadata": {},
   "outputs": [],
   "source": [
    "# 调用不完全Beta函数betainc和Beta函数\n",
    "from scipy.special import betainc,beta"
   ]
  },
  {
   "cell_type": "markdown",
   "metadata": {},
   "source": [
    "对比一下可以看到，不完全Beta函数可以替代二项分布累积分布函数。"
   ]
  },
  {
   "cell_type": "code",
   "execution_count": 45,
   "metadata": {},
   "outputs": [
    {
     "data": {
      "text/plain": [
       "[<matplotlib.lines.Line2D at 0x7f12e72ec6a0>]"
      ]
     },
     "execution_count": 45,
     "metadata": {},
     "output_type": "execute_result"
    },
    {
     "data": {
      "image/png": "[encoded data removed]",
      "text/plain": [
       "<Figure size 432x288 with 1 Axes>"
      ]
     },
     "metadata": {},
     "output_type": "display_data"
    }
   ],
   "source": [
    "x = np.linspace(0, 0.1, 100)\n",
    "plt.plot(x, 1-betainc(12, 1000-11+1, x))\n",
    "plt.plot(x, binomial_CDF(1000, x, 11), 'o')\n",
    "#plt.plot(x, (1-betainc(12,1000-12+1,x)-binomial_CDF(1000, x, 11)))"
   ]
  },
  {
   "cell_type": "markdown",
   "metadata": {},
   "source": [
    "现在考虑如何求根，由于这个函数导数变化剧烈，但是单调，所以我们可以用二分法缩小含根区间。"
   ]
  },
  {
   "cell_type": "code",
   "execution_count": 46,
   "metadata": {},
   "outputs": [],
   "source": [
    "def func(S, n, delta, z):\n",
    "    return betainc(S, n - S + 1, z) - delta / 2\n",
    "\n",
    "def bisection_root(S, n, delta, z1, z2, err, tol):\n",
    "    while (True):\n",
    "        f1 = func(S, n, delta, z1)\n",
    "        if np.abs(f1) < tol:\n",
    "            return z1\n",
    "        z = (z1 + z2) * 0.5\n",
    "        fz = func(S, n, delta, z)\n",
    "        if np.abs(fz) < tol:\n",
    "            return z\n",
    "        if fz * f1 < 0:\n",
    "            z2 = z\n",
    "        else:\n",
    "            z1 = z\n",
    "        z = (z1 + z2) * 0.5\n",
    "        if (np.abs(z1 - z2) < err):\n",
    "            return z"
   ]
  },
  {
   "cell_type": "markdown",
   "metadata": {},
   "source": [
    "缩小到误差范围$1 \\times 10^{-3}$。"
   ]
  },
  {
   "cell_type": "code",
   "execution_count": 47,
   "metadata": {},
   "outputs": [
    {
     "name": "stdout",
     "output_type": "stream",
     "text": [
      "0.00439453125\n"
     ]
    }
   ],
   "source": [
    "S = 11\n",
    "n = 1000\n",
    "delta = 0.01\n",
    "z = bisection_root(S, n, delta, 0, 1, 1e-3, 1e-7)\n",
    "print(z)"
   ]
  },
  {
   "cell_type": "markdown",
   "metadata": {},
   "source": [
    "然后启动一个Newton迭代。这里我们认真写一个Newton迭代吧。首先注意到不完全Beta函数是一个变上限积分，因此它的导数就是积分核，也就是二项分布的质量分布函数。"
   ]
  },
  {
   "cell_type": "code",
   "execution_count": 48,
   "metadata": {},
   "outputs": [],
   "source": [
    "def dfunc(S, n, delta, z):\n",
    "    return (z)**(S - 1)*(1 - z)**(n - S) / beta(S, n - S + 1)"
   ]
  },
  {
   "cell_type": "code",
   "execution_count": 49,
   "metadata": {},
   "outputs": [],
   "source": [
    "def Newton(S, n, delta, theta, tol, MAX_IT):\n",
    "    theta0 = theta\n",
    "    err = np.abs(func(S, n, delta, theta0))\n",
    "    k = 0\n",
    "    while err > tol:\n",
    "        theta1 = theta0 - func(S, n, delta, theta0) / dfunc(S, n, delta, theta0)\n",
    "        theta0 = theta1\n",
    "        err = np.abs(func(S, n, delta, theta0))\n",
    "        k = k + 1\n",
    "        if k > MAX_IT:\n",
    "            print (\"Disconvergence!\")\n",
    "            break\n",
    "    return theta0"
   ]
  },
  {
   "cell_type": "code",
   "execution_count": 50,
   "metadata": {},
   "outputs": [
    {
     "data": {
      "text/plain": [
       "0.0043336857667978365"
      ]
     },
     "execution_count": 50,
     "metadata": {},
     "output_type": "execute_result"
    }
   ],
   "source": [
    "Newton(11, 1000, 0.01, 0.00439453125, 1e-15, 10)"
   ]
  },
  {
   "cell_type": "markdown",
   "metadata": {},
   "source": [
    "下面我们对$S = 323$，$n = 1000$，$\\delta = 0.01$利用上面的程序给出一个完整的区间估计。首先计算满足\n",
    "$$\n",
    "H_\\theta(S, n - S + 1) = \\frac{\\delta}{2}\n",
    "$$\n",
    "的$\\theta$："
   ]
  },
  {
   "cell_type": "code",
   "execution_count": 51,
   "metadata": {},
   "outputs": [
    {
     "name": "stdout",
     "output_type": "stream",
     "text": [
      "0.28564453125\n"
     ]
    }
   ],
   "source": [
    "S = 323\n",
    "n = 1000\n",
    "delta = 0.01\n",
    "z = bisection_root(S, n, delta, 0, 1, 1e-3, 1e-7)\n",
    "print(z)"
   ]
  },
  {
   "cell_type": "markdown",
   "metadata": {},
   "source": [
    "其实因为MC方法本身精度不会太高，这个估计就很好了，如果实在有必要，那么可以用Newton迭代继续加细："
   ]
  },
  {
   "cell_type": "code",
   "execution_count": 52,
   "metadata": {},
   "outputs": [
    {
     "name": "stdout",
     "output_type": "stream",
     "text": [
      "0.2853347327850279\n"
     ]
    }
   ],
   "source": [
    "z = Newton(S, n, delta, z, 1e-15, 10)\n",
    "print(z)"
   ]
  },
  {
   "cell_type": "markdown",
   "metadata": {},
   "source": [
    "这是个神经病一样的估计。然后继续估计另一端，为此要重新定义一下func。"
   ]
  },
  {
   "cell_type": "code",
   "execution_count": 53,
   "metadata": {},
   "outputs": [],
   "source": [
    "def func(S, n, delta, z):\n",
    "    return betainc(S + 1, n - S, z) - 1 + delta / 2\n",
    "def dfunc(S, n, delta, z):\n",
    "    return (z)**S*(1 - z)**(n - S - 1) / beta(S + 1, n - S)"
   ]
  },
  {
   "cell_type": "code",
   "execution_count": 54,
   "metadata": {},
   "outputs": [
    {
     "name": "stdout",
     "output_type": "stream",
     "text": [
      "0.36279296875\n"
     ]
    }
   ],
   "source": [
    "z = bisection_root(S, n, delta, 0, 1, 1e-3, 1e-7)\n",
    "print(z)"
   ]
  },
  {
   "cell_type": "code",
   "execution_count": 55,
   "metadata": {},
   "outputs": [
    {
     "name": "stdout",
     "output_type": "stream",
     "text": [
      "0.36237554840444247\n"
     ]
    }
   ],
   "source": [
    "z = Newton(S, n, delta, z, 1e-15, 10)\n",
    "print(z)"
   ]
  },
  {
   "cell_type": "markdown",
   "metadata": {},
   "source": [
    "其实只要把二分法的精度提高也行，比如误差界$5 \\times 10^{-5}$足以保证有4位有效数字："
   ]
  },
  {
   "cell_type": "code",
   "execution_count": 56,
   "metadata": {},
   "outputs": [
    {
     "name": "stdout",
     "output_type": "stream",
     "text": [
      "0.3623809814453125\n"
     ]
    }
   ],
   "source": [
    "z = bisection_root(S, n, delta, 0, 1, 5e-5, 1e-7)\n",
    "print(z)"
   ]
  },
  {
   "cell_type": "code",
   "execution_count": null,
   "metadata": {},
   "outputs": [],
   "source": []
  }
 ],
 "metadata": {
  "kernelspec": {
   "display_name": "Python 3",
   "language": "python",
   "name": "python3"
  },
  "language_info": {
   "codemirror_mode": {
    "name": "ipython",
    "version": 3
   },
   "file_extension": ".py",
   "mimetype": "text/x-python",
   "name": "python",
   "nbconvert_exporter": "python",
   "pygments_lexer": "ipython3",
   "version": "3.6.5"
  }
 },
 "nbformat": 4,
 "nbformat_minor": 2
}
