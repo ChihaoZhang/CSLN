{
 "cells": [
  {
   "cell_type": "markdown",
   "metadata": {},
   "source": [
    "# 第三章　随机抽样\n",
    "\n",
    "作者：[王何宇](http://person.zju.edu.cn/wangheyu)\n",
    "\n",
    "[浙江大学数学科学学院](http://www.math.zju.edu.cn)\n",
    "\n",
    "本文档配合讲义第三章的逆变换随机抽样部分。讲义中的代码和图形都可在此验证。"
   ]
  },
  {
   "cell_type": "code",
   "execution_count": null,
   "metadata": {},
   "outputs": [],
   "source": [
    "from __future__ import print_function, division\n",
    "\n",
    "# 这句话是非标准的python，用于ipthon或jupyter这样的系统中，表示绘图即刻自动展开。\n",
    "%matplotlib inline\n",
    "\n",
    "# 这里把全部Warning过滤掉了. \n",
    "# 参见https://docs.python.org/2/library/warnings.html\n",
    "import warnings\n",
    "warnings.filterwarnings('ignore')\n",
    "from scipy.special import comb, perm\n",
    "from scipy import stats\n",
    "import numpy as np\n",
    "import sys\n",
    "import matplotlib.pyplot as plt\n",
    "np.random.seed(250)"
   ]
  },
  {
   "cell_type": "markdown",
   "metadata": {},
   "source": [
    "## 离散分布举例\n",
    "下面产生一个服从$n，p$的二项分布。"
   ]
  },
  {
   "cell_type": "code",
   "execution_count": null,
   "metadata": {},
   "outputs": [],
   "source": [
    "n = 10\n",
    "p = 0.3\n",
    "k = np.arange(0, n + 1, 1)\n",
    "# 生成器，在具体调用时产生序列。\n",
    "PMF = [stats.binom.pmf(i, n, p) for i in k] "
   ]
  },
  {
   "cell_type": "code",
   "execution_count": null,
   "metadata": {},
   "outputs": [],
   "source": [
    "print(PMF) # 表格中数据"
   ]
  },
  {
   "cell_type": "markdown",
   "metadata": {},
   "source": [
    "接下去绘制PMF和CDF的插图。这里也可以学习一下Python如何绘图。"
   ]
  },
  {
   "cell_type": "code",
   "execution_count": null,
   "metadata": {},
   "outputs": [],
   "source": [
    "for i in k:\n",
    "    plt.plot([k[i], k[i]],[0,PMF[i]],'b-') # 画n + 1条直线。\n",
    "    plt.plot(k[i], PMF[i],'bo') # 顶部画个点。\n",
    "plt.xticks(fontsize=15) # 调整一下标记字体。\n",
    "plt.yticks(fontsize=15)\n",
    "plt.xlabel(r'PMF',fontsize=15) # 加标题。\n",
    "plt.savefig('PMF_bin.pdf')"
   ]
  },
  {
   "cell_type": "markdown",
   "metadata": {},
   "source": [
    "将PMF累加即得离散分布的CDF，也即\n",
    "$$\n",
    "F(x_k) = \\sum_{-\\infty}^k f(x_i).\n",
    "$$"
   ]
  },
  {
   "cell_type": "code",
   "execution_count": null,
   "metadata": {},
   "outputs": [],
   "source": [
    "fig = plt.figure()\n",
    "c = 0\n",
    "CDF = [0]*(n + 1)\n",
    "for i in range(n):\n",
    "    c += PMF[i]\n",
    "    CDF[i] = c\n",
    "    plt.plot([k[i], k[i + 1]],[c, c],'b-') \n",
    "    # ''表示无颜色，但又给了edgecolors，就是为了画个空圈。s是大小。\n",
    "    plt.scatter(k[i + 1], c, color='', marker='o', edgecolors='b', s=40)\n",
    "    plt.scatter(k[i], c, color='b',marker='o', s=40)\n",
    "plt.scatter(0, 0, color='',marker='o', edgecolors='b', s=40)\n",
    "plt.scatter(n, 1, color='b',marker='o', s=40)\n",
    "plt.xticks(fontsize=15)\n",
    "plt.yticks(fontsize=15)\n",
    "plt.xlabel(r'CDF',fontsize=15)\n",
    "plt.savefig('CDF_bin.pdf')\n",
    "CDF[n] = 1"
   ]
  },
  {
   "cell_type": "markdown",
   "metadata": {},
   "source": [
    "构建一个用于二分法查表的函数。稍微有一些针对性处理。关于二分查找和递归过程的内容可参考MIT的网络公开课《算法导论》，03年版。"
   ]
  },
  {
   "cell_type": "code",
   "execution_count": null,
   "metadata": {},
   "outputs": [],
   "source": [
    "def bisection_search(F, eta, start, end):\n",
    "    if (eta <= F[start]):\n",
    "        return start\n",
    "    n = end - start\n",
    "    if (n <= 0):\n",
    "        sys.exit()\n",
    "    k = (start + end) // 2\n",
    "    if (eta > F[k]):\n",
    "        if (eta <= F[k + 1]):\n",
    "            return k + 1\n",
    "        else:\n",
    "            return bisection_search(F, eta, k + 1, end)\n",
    "    else:\n",
    "        return bisection_search(F, eta, start, k)"
   ]
  },
  {
   "cell_type": "markdown",
   "metadata": {},
   "source": [
    "做1000000次随机抽取，形成二项分布的随机序列X。"
   ]
  },
  {
   "cell_type": "code",
   "execution_count": null,
   "metadata": {},
   "outputs": [],
   "source": [
    "U = np.random.rand(1000000)\n",
    "X = [bisection_search(CDF, U[i], 0, n) for i in range(1000000)]"
   ]
  },
  {
   "cell_type": "markdown",
   "metadata": {},
   "source": [
    "用统计来验证我们生成的随机序列确实服从目标分布。"
   ]
  },
  {
   "cell_type": "code",
   "execution_count": null,
   "metadata": {
    "scrolled": true
   },
   "outputs": [],
   "source": [
    "plt.hist(X, normed=True, label=\"Stat. of the Sampling\");\n",
    "plt.plot(PMF, label=r\"PMF, $b(10, 0.3)$\")\n",
    "plt.legend()\n",
    "plt.xlabel(r\"Statistical Test of the Samples\")\n",
    "plt.savefig('test_bin.pdf')"
   ]
  },
  {
   "cell_type": "markdown",
   "metadata": {},
   "source": [
    "实测结果和理论符合的很好。\n",
    "\n",
    "## 连续分布举例\n",
    "下面是连续情形的逆变换直接抽样。如果能写出逆变换的解析形式，而且便于计算，那么整个过程非常直接方便。这是一个Rayleigh分布直接抽样的例子。"
   ]
  },
  {
   "cell_type": "code",
   "execution_count": null,
   "metadata": {},
   "outputs": [],
   "source": [
    "def sample_Rayleigh(U, sigma):\n",
    "    return [np.sqrt(-2 * sigma**2 * np.log(u)) for u in U]"
   ]
  },
  {
   "cell_type": "markdown",
   "metadata": {},
   "source": [
    "还是直接抽样1000000次。"
   ]
  },
  {
   "cell_type": "code",
   "execution_count": null,
   "metadata": {},
   "outputs": [],
   "source": [
    "U = np.random.rand(1000000)\n",
    "X = sample_Rayleigh(U, 0.5)"
   ]
  },
  {
   "cell_type": "markdown",
   "metadata": {},
   "source": [
    "同样的，我们需要统计验证。"
   ]
  },
  {
   "cell_type": "code",
   "execution_count": null,
   "metadata": {},
   "outputs": [],
   "source": [
    "s = 0.5\n",
    "x = np.linspace(0,6,10000)\n",
    "f = (x/s**2) * np.exp(-x**2/(2 * s**2))\n",
    "plt.hist(X, bins=50,normed=True, label=\"Stat. of the Sampling\");\n",
    "plt.plot(x, f, label=r\"PDF of Rayleigh Distribution, $\\sigma = 0.5$\")\n",
    "plt.legend()\n",
    "plt.xlabel(r\"Statistical Test of Rayleigh Samples by Inverse Transform Method\")\n",
    "plt.savefig('Ray_inv.pdf')"
   ]
  },
  {
   "cell_type": "markdown",
   "metadata": {},
   "source": [
    "这里hist的参数bins=50代表了做统计的区间分段数，由于我们的样本数足够，这个数字越大，统计图会越连续。"
   ]
  },
  {
   "cell_type": "code",
   "execution_count": null,
   "metadata": {},
   "outputs": [],
   "source": [
    "def sample_Exponential(U, beta):\n",
    "    return [-beta * np.log(u) for u in U]"
   ]
  },
  {
   "cell_type": "code",
   "execution_count": null,
   "metadata": {},
   "outputs": [],
   "source": [
    "U = np.random.rand(1000000)\n",
    "beta = 1.0\n",
    "X = sample_Exponential(U, beta)\n",
    "x = np.linspace(0,6,10000)\n",
    "f = 1/beta * np.exp(-x/beta)\n",
    "plt.hist(X, bins=50,normed=True, label=\"Stat. of the Sampling\");\n",
    "plt.plot(x, f, label=r\"PDF of Exponential Distribution, $\\beta = 1.0$\")\n",
    "plt.legend()\n",
    "plt.xlabel(r\"Statistical Test of Exponential Samples by Inverse Transform Method\")\n",
    "#plt.savefig('Exp_inv.pdf')"
   ]
  },
  {
   "cell_type": "markdown",
   "metadata": {},
   "source": [
    "## 接受－拒绝方法（Accept-Rejection Method）\n",
    "\n",
    "下面是用AR方法抽取标准半正态分布的过程。"
   ]
  },
  {
   "cell_type": "code",
   "execution_count": null,
   "metadata": {},
   "outputs": [],
   "source": [
    "def sample_half_normal(N):\n",
    "# N, 实际采样数\n",
    "    k = 0  # 实际接受总数\n",
    "    U = np.random.rand(N)  # 产生均匀分布\n",
    "    X = [-np.log(u) for u in U]  # 产生服从h的随机变量X, 实际上是beta(1)\n",
    "    G = [np.exp(-(x-1)**2/2) for x in X]   # 计算g(X)\n",
    "    U = np.random.rand(N)  # 再次产生均匀分布\n",
    "    for i in range(N):\n",
    "        if U[i] <= G[i]:  # 在g发生的条件下接受\n",
    "            X[k] = X[i]   # 将采样记下来\n",
    "            k = k + 1\n",
    "    return k, X"
   ]
  },
  {
   "cell_type": "markdown",
   "metadata": {},
   "source": [
    "实际产生100万个服从标准半正态分布的随机数。然后做统计检测并和PDF对比。"
   ]
  },
  {
   "cell_type": "code",
   "execution_count": null,
   "metadata": {},
   "outputs": [],
   "source": [
    "N = 1000000\n",
    "k, X = sample_half_normal(N)\n",
    "1000000/k\n",
    "x = np.linspace(0,6,10000)\n",
    "plt.hist(X[0:k], bins=50, normed=True, label=r\"Stat\");\n",
    "plt.plot(x,np.sqrt(2/np.pi)*np.exp(-x**2/2), label=r\"PDF\")\n",
    "plt.legend()\n",
    "plt.xlabel(r\"Half Normal Distribution Samples Produced by AR Method\")\n",
    "plt.savefig('half_normal.pdf')"
   ]
  },
  {
   "cell_type": "markdown",
   "metadata": {},
   "source": [
    "结果匹配一致。然后下面将其改造为标准正态分布。"
   ]
  },
  {
   "cell_type": "code",
   "execution_count": null,
   "metadata": {},
   "outputs": [],
   "source": [
    "for i in range(k):\n",
    "    w = np.random.rand()\n",
    "    if w > 0.5:\n",
    "        X[i] = -X[i]"
   ]
  },
  {
   "cell_type": "code",
   "execution_count": null,
   "metadata": {},
   "outputs": [],
   "source": [
    "x = np.linspace(-6,6,10000)\n",
    "plt.hist(X[0:k], bins=50, normed=True, label=\"Stat. of the Sampling\");\n",
    "plt.plot(x,1/np.sqrt(2*np.pi)*np.exp(-x**2/2))"
   ]
  },
  {
   "cell_type": "markdown",
   "metadata": {},
   "source": [
    "为防止重复抽取，应该直接在AR抽取中直接产生标准正态分布更好。"
   ]
  },
  {
   "cell_type": "code",
   "execution_count": null,
   "metadata": {},
   "outputs": [],
   "source": [
    "def sample_normal(N):\n",
    "# N, 实际采样数\n",
    "    k = 0  # 实际接受总数\n",
    "    U = np.random.rand(N)  # 产生均匀分布\n",
    "    X = [-np.log(u) for u in U]  # 产生服从h的随机变量X\n",
    "    G = [np.exp(-(x-1)**2/2) for x in X]   # 计算g(X)\n",
    "    U = np.random.rand(N)  # 再次产生均匀分布\n",
    "    for i in range(N):\n",
    "        if U[i] <= G[i]:  # 在g发生的条件下接受\n",
    "            w = np.random.rand()\n",
    "            if w <= 0.5:\n",
    "                X[k] = X[i]\n",
    "            else:\n",
    "                X[k] = -X[i]\n",
    "            k = k + 1\n",
    "    return k, X"
   ]
  },
  {
   "cell_type": "code",
   "execution_count": null,
   "metadata": {},
   "outputs": [],
   "source": [
    "N = 1000000\n",
    "k, X = sample_normal(N)\n",
    "N/k\n",
    "x = np.linspace(-6,6,10000)\n",
    "plt.hist(X[0:k], bins=50,normed=True, label=\"Stat\");\n",
    "plt.plot(x,1/np.sqrt(2*np.pi)*np.exp(-x**2/2), label=r\"PDF\")\n",
    "plt.legend()\n",
    "plt.xlabel(r\"Normal Distribution Samples Produced by AR Method\")\n",
    "plt.savefig('normal.pdf')"
   ]
  },
  {
   "cell_type": "markdown",
   "metadata": {},
   "source": [
    "注意这个统计图本身是不对称的，因为有概率涨落。但是进一步加细可以看到，其“极限”和目标PDF匹配的很好。"
   ]
  },
  {
   "cell_type": "code",
   "execution_count": null,
   "metadata": {},
   "outputs": [],
   "source": [
    "plt.hist(X[0:k], bins=100,normed=True, label=\"Stat\");\n",
    "plt.plot(x,1/np.sqrt(2*np.pi)*np.exp(-x**2/2), label=r\"PDF\")"
   ]
  },
  {
   "cell_type": "markdown",
   "metadata": {},
   "source": [
    "现在回到半正态分布的例子。我们可以画出接受和拒绝区域。而常数$c$就是接受区域的面积（总面积是１）。"
   ]
  },
  {
   "cell_type": "code",
   "execution_count": null,
   "metadata": {},
   "outputs": [],
   "source": [
    "x = np.linspace(0,1,10000)\n",
    "z = -np.log(x)\n",
    "u = np.exp(-(z - 1)**2 / 2)\n",
    "plt.plot(x,u,label=r'$g(-\\log(x))$')\n",
    "plt.xlim(0.0, 1.0)\n",
    "plt.ylim(0.0, 1.0)\n",
    "#plt.axis(\"equal\")\n",
    "axs = plt.gca()\n",
    "axs.set_aspect('equal', 'box')\n",
    "plt.text(0.65, 0.9, r'reject',fontsize=\"12\")\n",
    "plt.text(0.05, 0.9, r'reject',fontsize=\"12\")\n",
    "plt.text(0.5, 0.5, r'accept',fontsize=\"12\")\n",
    "plt.legend(fontsize=\"12\")\n",
    "plt.xlabel(r\"x\",fontsize=\"12\")\n",
    "plt.ylabel(r\"u\",fontsize=\"12\")\n",
    "plt.savefig('AR_region.pdf')"
   ]
  },
  {
   "cell_type": "markdown",
   "metadata": {},
   "source": [
    "如果我们有办法快速产生指数分布，比如我们直接调用Python提供的指数分布生成函数，那么下面的版本有可能比原始版本代价更低。当然这里速度的变化主要是Python提供的指数分布生成程序实在太快了。"
   ]
  },
  {
   "cell_type": "code",
   "execution_count": null,
   "metadata": {},
   "outputs": [],
   "source": [
    "def sample_half_normal_v2(N):\n",
    "# N, 实际采样数\n",
    "    k = 0  # 实际接受总数\n",
    "    X = stats.expon.rvs(size=N)  \n",
    "    G = stats.expon.rvs(size=N)  # 产生两个独立的beta(1)\n",
    "    for i in range(N):\n",
    "        if (X[i] - 1)**2/2 <= G[i]:  # 等价于在g的条件下接受\n",
    "            X[k] = X[i]   # 将采样记下来\n",
    "            k = k + 1\n",
    "    return k, X"
   ]
  },
  {
   "cell_type": "code",
   "execution_count": null,
   "metadata": {},
   "outputs": [],
   "source": [
    "N = 1000000\n",
    "k, X = sample_half_normal_v2(N)\n",
    "1000000/k\n",
    "x = np.linspace(0,6,10000)\n",
    "plt.hist(X[0:k], bins=50, normed=True, label=r\"Stat\");\n",
    "plt.plot(x,np.sqrt(2/np.pi)*np.exp(-x**2/2), label=r\"PDF\")\n",
    "plt.legend()\n",
    "plt.xlabel(r\"Half Normal Distribution Samples Produced by AR Method\")"
   ]
  },
  {
   "cell_type": "code",
   "execution_count": null,
   "metadata": {},
   "outputs": [],
   "source": [
    "x = np.linspace(0,1,10000)\n",
    "z = -np.log(x)\n",
    "g = np.exp(-(z - 1)**2 / 2)\n",
    "gl = 1 - (z - 1)**2 / 2\n",
    "gu = 1 - (z - 1)**2 / 2 + (z - 1)**4 / 8\n",
    "plt.plot(x,u,label=r'$g$')\n",
    "plt.plot(x,gl,label=r'$g_L$')\n",
    "plt.plot(x,gu,label=r'$g_U$')\n",
    "plt.xlim(0.0, 1.0)\n",
    "plt.ylim(0.0, 1.0)\n",
    "axs = plt.gca()\n",
    "axs.set_aspect('equal', 'box')\n",
    "plt.legend(fontsize=\"12\")\n",
    "plt.xlabel(r\"x\",fontsize=\"12\")\n",
    "plt.ylabel(r\"u\",fontsize=\"12\")\n",
    "plt.savefig('squeeze.pdf')"
   ]
  },
  {
   "cell_type": "code",
   "execution_count": null,
   "metadata": {},
   "outputs": [],
   "source": []
  }
 ],
 "metadata": {
  "kernelspec": {
   "display_name": "Python 3",
   "language": "python",
   "name": "python3"
  },
  "language_info": {
   "codemirror_mode": {
    "name": "ipython",
    "version": 3
   },
   "file_extension": ".py",
   "mimetype": "text/x-python",
   "name": "python",
   "nbconvert_exporter": "python",
   "pygments_lexer": "ipython3",
   "version": "3.6.5"
  }
 },
 "nbformat": 4,
 "nbformat_minor": 2
}
