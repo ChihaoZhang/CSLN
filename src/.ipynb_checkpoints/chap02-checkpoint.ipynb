{
 "cells": [
  {
   "cell_type": "markdown",
   "metadata": {},
   "source": [
    "# 第二章　随机数的产生\n",
    "\n",
    "作者：[王何宇](http://person.zju.edu.cn/wangheyu)\n",
    "\n",
    "[浙江大学数学科学学院](http://www.math.zju.edu.cn)\n",
    "\n",
    "本文档配合讲义第二章的内容。讲义中的代码和图形都可在此验证。"
   ]
  },
  {
   "cell_type": "code",
   "execution_count": null,
   "metadata": {},
   "outputs": [],
   "source": [
    "from __future__ import print_function, division\n",
    "\n",
    "# 这句话是非标准的python，用于ipthon或jupyter这样的系统中，表示绘图即刻自动展开。\n",
    "%matplotlib inline\n",
    "\n",
    "# 这里把全部Warning过滤掉了. \n",
    "# 参见https://docs.python.org/2/library/warnings.html\n",
    "import warnings\n",
    "warnings.filterwarnings('ignore')\n",
    "import matplotlib.pyplot as plt\n",
    "import numpy as np"
   ]
  },
  {
   "cell_type": "markdown",
   "metadata": {},
   "source": [
    "## 程序例子：经典 Fibonacci 产生器\n",
    "\n",
    "我们来验证经典 Fibonacci 产生器的缺陷。"
   ]
  },
  {
   "cell_type": "code",
   "execution_count": null,
   "metadata": {},
   "outputs": [],
   "source": [
    "def rand_add_mod(X0, X1, M, N):\n",
    "    X = np.zeros(N)\n",
    "    X[0] = X0\n",
    "    X[1] = X1\n",
    "    for i in range(2, N):\n",
    "        X[i] = (X[i - 2] + X[i - 1]) % M\n",
    "    return X / (M - 1)"
   ]
  },
  {
   "cell_type": "markdown",
   "metadata": {},
   "source": [
    "产生随机数的参数比较不好搞，下面产生的是5000个U(0, 1)的伪随机数。"
   ]
  },
  {
   "cell_type": "code",
   "execution_count": null,
   "metadata": {},
   "outputs": [],
   "source": [
    "X = rand_add_mod(197, 39, 65535, 5000)"
   ]
  },
  {
   "cell_type": "markdown",
   "metadata": {},
   "source": [
    "我们直接用点图看一下它的均匀性，似乎不错？"
   ]
  },
  {
   "cell_type": "code",
   "execution_count": null,
   "metadata": {},
   "outputs": [],
   "source": [
    "plt.plot(X,'.')\n",
    "plt.xlabel(\"i\")\n",
    "plt.ylabel(\"$U_i$\")\n",
    "plt.savefig(\"add_mod_random_test.pdf\")"
   ]
  },
  {
   "cell_type": "markdown",
   "metadata": {},
   "source": [
    "而接下去这段诡异的过程可以称为“找规律”。给出一个特殊的抽样，使得样本出现强烈的规律性。"
   ]
  },
  {
   "cell_type": "code",
   "execution_count": null,
   "metadata": {},
   "outputs": [],
   "source": [
    "x = np.zeros(4998)\n",
    "y = np.zeros(4998)\n",
    "for i in range(1,4998):\n",
    "    x[i] = np.sqrt(X[i]) * np.cos(2 * np.pi * X[i + 1]) * np.sin(np.pi * X[i + 2])\n",
    "    y[i] = np.sqrt(X[i]) * np.sin(2 * np.pi * X[i + 1]) * np.sin(np.pi * X[i + 2])\n",
    "plt.plot(x,y,'.')\n",
    "plt.xlabel(\"$X_i$\")\n",
    "plt.ylabel(\"$Y_i$\")\n",
    "plt.savefig(\"add_mod_random_fail.pdf\")    "
   ]
  },
  {
   "cell_type": "markdown",
   "metadata": {},
   "source": [
    "先调入三维绘图库。"
   ]
  },
  {
   "cell_type": "code",
   "execution_count": null,
   "metadata": {},
   "outputs": [],
   "source": [
    "from mpl_toolkits.mplot3d import Axes3D\n",
    "import matplotlib.pyplot as plt"
   ]
  },
  {
   "cell_type": "markdown",
   "metadata": {},
   "source": [
    "再补一刀，加同余的三维分布："
   ]
  },
  {
   "cell_type": "code",
   "execution_count": null,
   "metadata": {},
   "outputs": [],
   "source": [
    "fig = plt.figure()\n",
    "ax = Axes3D(fig)\n",
    "ax.view_init(azim=59)\n",
    "ax.scatter(X[0:-2:3], X[1:-1:3], X[2:-1:3])\n",
    "ax.set_xlabel(\"$U_{i}$\")\n",
    "ax.set_ylabel(\"$U_{i + 1}$\")\n",
    "ax.set_zlabel(\"$U_{i + 2}$\")\n",
    "plt.savefig(\"RANDU_fail.pdf\")"
   ]
  },
  {
   "cell_type": "markdown",
   "metadata": {},
   "source": [
    "## 程序例子：线性同余产生器\n",
    "\n",
    "线性同余产生器是目前仍在广泛使用的一个方法。但一般需要和其他方法组合使用。"
   ]
  },
  {
   "cell_type": "code",
   "execution_count": null,
   "metadata": {},
   "outputs": [],
   "source": [
    "def rand_mul_mod(X0, M, A, C, N):\n",
    "    X = np.zeros(N)\n",
    "    X[0] = X0\n",
    "    for i in range(1, N):\n",
    "        X[i] = (A * X[i - 1] + C) % M\n",
    "    return X / (M - 1)"
   ]
  },
  {
   "cell_type": "markdown",
   "metadata": {},
   "source": [
    "先看两个不恰当选择参数所产生的问题。"
   ]
  },
  {
   "cell_type": "code",
   "execution_count": null,
   "metadata": {},
   "outputs": [],
   "source": [
    "X = rand_mul_mod(13, 2147483647, 7, 0, 5000) #BAD"
   ]
  },
  {
   "cell_type": "markdown",
   "metadata": {},
   "source": [
    "同样，仅从一维序列角度并看不出有什么问题。"
   ]
  },
  {
   "cell_type": "code",
   "execution_count": null,
   "metadata": {},
   "outputs": [],
   "source": [
    "plt.plot(X,'.')\n",
    "plt.xlabel(\"i\")\n",
    "plt.ylabel(\"$U_i$\")"
   ]
  },
  {
   "cell_type": "markdown",
   "metadata": {},
   "source": [
    "然而，其2维分布就相当令人感伤了。"
   ]
  },
  {
   "cell_type": "code",
   "execution_count": null,
   "metadata": {},
   "outputs": [],
   "source": [
    "plt.plot(X[0:-2:10],X[1:-1:10],'.')\n",
    "plt.xlabel(\"$U_{i}$\")\n",
    "plt.ylabel(\"$U_{i + 1}$\")"
   ]
  },
  {
   "cell_type": "markdown",
   "metadata": {},
   "source": [
    "同样的，它也没有逃过螺旋线的控制（尽管已经不是Fibonacci了）。"
   ]
  },
  {
   "cell_type": "code",
   "execution_count": null,
   "metadata": {},
   "outputs": [],
   "source": [
    "x = np.zeros(4999)\n",
    "y = np.zeros(4999)\n",
    "for i in range(1,4999):\n",
    "    x[i] = np.sqrt(-2 * np.log(X[i])) * np.cos(2 * np.pi * X[i + 1])\n",
    "    y[i] = np.sqrt(-2 * np.log(X[i])) * np.sin(2 * np.pi * X[i + 1])\n",
    "plt.plot(x,y,'.')\n",
    "plt.xlabel(\"$X_i$\")\n",
    "plt.ylabel(\"$Y_i$\")\n",
    "plt.savefig(\"mul_mod_random_fail.pdf\")    "
   ]
  },
  {
   "cell_type": "markdown",
   "metadata": {},
   "source": [
    "再来一个。一维总是很OK的。"
   ]
  },
  {
   "cell_type": "code",
   "execution_count": null,
   "metadata": {},
   "outputs": [],
   "source": [
    "X = rand_mul_mod(13, 2147483647, 2147483630, 0, 5000) #BAD\n",
    "plt.plot(X,'.')\n",
    "plt.xlabel(\"i\")\n",
    "plt.ylabel(\"$U_i$\")"
   ]
  },
  {
   "cell_type": "markdown",
   "metadata": {},
   "source": [
    "但二维和正态分布都挂了。"
   ]
  },
  {
   "cell_type": "code",
   "execution_count": null,
   "metadata": {},
   "outputs": [],
   "source": [
    "plt.plot(X[0:-2:2],X[1:-1:2],'.')\n",
    "plt.xlabel(\"$U_{i}$\")\n",
    "plt.ylabel(\"$U_{i + 1}$\")"
   ]
  },
  {
   "cell_type": "code",
   "execution_count": null,
   "metadata": {},
   "outputs": [],
   "source": [
    "x = np.zeros(4999)\n",
    "y = np.zeros(4999)\n",
    "for i in range(1,4999):\n",
    "    x[i] = np.sqrt(-2 * np.log(X[i])) * np.cos(2 * np.pi * X[i + 1])\n",
    "    y[i] = np.sqrt(-2 * np.log(X[i])) * np.sin(2 * np.pi * X[i + 1])\n",
    "plt.plot(x,y,'.')\n",
    "plt.xlabel(\"$X_i$\")\n",
    "plt.ylabel(\"$Y_i$\")\n",
    "plt.savefig(\"mul_mod_random_fail.pdf\")"
   ]
  },
  {
   "cell_type": "markdown",
   "metadata": {},
   "source": [
    "按么根据数论原理精挑细选会不会好点呢？这里有一组在IBM 360系统上用了很多年的经典参数："
   ]
  },
  {
   "cell_type": "code",
   "execution_count": null,
   "metadata": {},
   "outputs": [],
   "source": [
    "X = rand_mul_mod(1, 2147483648, 65539, 0, 5000) #IBM 360\n",
    "plt.plot(X,'.')\n",
    "plt.xlabel(\"i\")\n",
    "plt.ylabel(\"$U_i$\")"
   ]
  },
  {
   "cell_type": "markdown",
   "metadata": {},
   "source": [
    "二维检验，通过！"
   ]
  },
  {
   "cell_type": "code",
   "execution_count": null,
   "metadata": {},
   "outputs": [],
   "source": [
    "plt.plot(X[0:-2:2],X[1:-1:2],'.')\n",
    "plt.xlabel(\"$U_{i}$\")\n",
    "plt.ylabel(\"$U_{i + 1}$\")"
   ]
  },
  {
   "cell_type": "markdown",
   "metadata": {},
   "source": [
    "正态分布检验，也通过！IBM还是有的门道滴..."
   ]
  },
  {
   "cell_type": "code",
   "execution_count": null,
   "metadata": {},
   "outputs": [],
   "source": [
    "x = np.zeros(4999)\n",
    "y = np.zeros(4999)\n",
    "for i in range(1,4999):\n",
    "    x[i] = np.sqrt(-2 * np.log(X[i])) * np.cos(2 * np.pi * X[i + 1])\n",
    "    y[i] = np.sqrt(-2 * np.log(X[i])) * np.sin(2 * np.pi * X[i + 1])\n",
    "plt.plot(x,y,'.')\n",
    "plt.xlabel(\"$X_i$\")\n",
    "plt.ylabel(\"$Y_i$\")\n",
    "plt.savefig(\"mul_mod_random_fail.pdf\")"
   ]
  },
  {
   "cell_type": "markdown",
   "metadata": {},
   "source": [
    "然而...看看三维？"
   ]
  },
  {
   "cell_type": "code",
   "execution_count": null,
   "metadata": {},
   "outputs": [],
   "source": [
    "from mpl_toolkits.mplot3d import Axes3D\n",
    "import matplotlib.pyplot as plt\n",
    "fig = plt.figure()\n",
    "ax = Axes3D(fig)\n",
    "ax.view_init(azim=59)\n",
    "ax.scatter(X[0:-2:3], X[1:-1:3], X[2:-1:3])\n",
    "ax.set_xlabel(\"$U_{i}$\")\n",
    "ax.set_ylabel(\"$U_{i + 1}$\")\n",
    "ax.set_zlabel(\"$U_{i + 2}$\")\n",
    "plt.savefig(\"RANDU_fail.pdf\")"
   ]
  },
  {
   "cell_type": "markdown",
   "metadata": {},
   "source": [
    "这个办法在单独的线性同余生成器中是必须面对的，所以在生成高维数据时，必须小心。否则你可能就是在这些平面采样，而不是在全空间采样。\n",
    "\n",
    "## 程序例子：梅森旋转MT19937实现\n",
    "\n",
    "下面的例子在cnblog上网友xlxw的blog《Python下探究随机数的产生原理和算法》，网址：\n",
    "\n",
    "[https://www.cnblogs.com/lzxwalex/p/6880748.html](https://www.cnblogs.com/lzxwalex/p/6880748.html)\n",
    "\n",
    "提供的代码基础上修改而成，并参考了CSDN网友tick\\_tokc97的blog《伪随机数生成——梅森旋转（Mersenne Twister/MT）算法笔记》，网址：\n",
    "\n",
    "[https://blog.csdn.net/tick_tock97/article/details/78657851](https://blog.csdn.net/tick_tock97/article/details/78657851)\n",
    "\n",
    "MT19937是基于32位整数的算法，首先定义一个规范32位字长的函数。"
   ]
  },
  {
   "cell_type": "code",
   "execution_count": null,
   "metadata": {},
   "outputs": [],
   "source": [
    "def inter(t):\n",
    "    return(0xFFFFFFFF & t) #取最后32位->t"
   ]
  },
  {
   "cell_type": "markdown",
   "metadata": {},
   "source": [
    "梅森旋转需要一个工作区，MT19937的工作区长度是624，初始化过程如下："
   ]
  },
  {
   "cell_type": "code",
   "execution_count": null,
   "metadata": {},
   "outputs": [],
   "source": [
    "def mainset(seed, M):\n",
    "    M[0] = seed    #seed\n",
    "    for i in range(1,624):\n",
    "        M[i] = inter(1812433253 * (M[i - 1] ^ M[i - 1] >> 30) + i)\n",
    "    return M"
   ]
  },
  {
   "cell_type": "markdown",
   "metadata": {},
   "source": [
    "接下去是关键的一步：对工作区进行梅森旋转。"
   ]
  },
  {
   "cell_type": "code",
   "execution_count": null,
   "metadata": {},
   "outputs": [],
   "source": [
    "def twister(M):\n",
    "    for i in range(624):\n",
    "        # 截取M[i]高位和M[i+1](越界就返回M[0])低位，用普通加法合并，对齐32位\n",
    "        # 这里高位取了1位，低位取了31位。\n",
    "        y = inter((M[i] & 0x80000000) +(M[(i + 1) % 624] & 0x7fffffff))\n",
    "        yA = y >> 1\n",
    "        if y & 1 == 1: #取最低位\n",
    "            yA = yA ^ 0x9908b0df\n",
    "        M[i] = M[(i + 397) % 624] ^ yA\n",
    "    return M"
   ]
  },
  {
   "cell_type": "markdown",
   "metadata": {},
   "source": [
    "实际的随机数生成依赖工作区进行递推，因此每产生624个随机数，需要新旋转工作区。"
   ]
  },
  {
   "cell_type": "code",
   "execution_count": null,
   "metadata": {},
   "outputs": [],
   "source": [
    "def exnum(M, index):\n",
    "    y = M[index]\n",
    "    y = y ^ y >> 11\n",
    "    y = y ^ y << 7 & 2636928640\n",
    "    y = y ^ y << 15 & 4022730752\n",
    "    y = y ^ y >> 18\n",
    "    index = index + 1\n",
    "    return inter(y)"
   ]
  },
  {
   "cell_type": "markdown",
   "metadata": {},
   "source": [
    "主流程如下"
   ]
  },
  {
   "cell_type": "code",
   "execution_count": null,
   "metadata": {},
   "outputs": [],
   "source": [
    "def MT19937(seed,num):\n",
    "    U = [0]*num\n",
    "    M = [0]*624\n",
    "    M = mainset(seed, M)\n",
    "    twister(M)\n",
    "    for i in range(num):\n",
    "        index = i % 624\n",
    "        U[i] = exnum(M, index) / (2**32 - 1)\n",
    "        if (index == 623):\n",
    "            twister(M)\n",
    "    return U     "
   ]
  },
  {
   "cell_type": "markdown",
   "metadata": {},
   "source": [
    "测试一下："
   ]
  },
  {
   "cell_type": "code",
   "execution_count": null,
   "metadata": {},
   "outputs": [],
   "source": [
    "X=MT19937(13, 5000)\n",
    "plt.plot(X,'.')\n",
    "plt.xlabel(\"i\")\n",
    "plt.ylabel(\"$X_i$\")"
   ]
  },
  {
   "cell_type": "markdown",
   "metadata": {},
   "source": [
    "以及二维正态分布："
   ]
  },
  {
   "cell_type": "code",
   "execution_count": null,
   "metadata": {},
   "outputs": [],
   "source": [
    "x = np.zeros(4999)\n",
    "y = np.zeros(4999)\n",
    "for i in range(1,4999):\n",
    "    x[i] = np.sqrt(-2 * np.log(X[i])) * np.cos(2 * np.pi * X[i + 1])\n",
    "    y[i] = np.sqrt(-2 * np.log(X[i])) * np.sin(2 * np.pi * X[i + 1])\n",
    "plt.plot(x,y,'.')\n",
    "plt.xlabel(\"$X_i$\")\n",
    "plt.ylabel(\"$Y_i$\")"
   ]
  },
  {
   "cell_type": "markdown",
   "metadata": {},
   "source": [
    "下面生成了500个1000维随机向量（一共50万个随机数，MT19937还是很快）。"
   ]
  },
  {
   "cell_type": "code",
   "execution_count": null,
   "metadata": {},
   "outputs": [],
   "source": [
    "X=np.zeros(500000)\n",
    "X=MT19937(13, 500000)\n",
    "X=(np.reshape(X,(500,1000))).T # 最后转置一下"
   ]
  },
  {
   "cell_type": "markdown",
   "metadata": {},
   "source": [
    "看一下$(X_1, X_2)$和$(X_{999}, X_{1000})$两个平面的的分布情况。"
   ]
  },
  {
   "cell_type": "code",
   "execution_count": null,
   "metadata": {},
   "outputs": [],
   "source": [
    "plt.plot(X[0,:],X[1,:],'.')\n",
    "plt.xlabel(\"$X_1$\")\n",
    "plt.ylabel(\"$X_2$\")\n",
    "plt.savefig(\"MT19937_X1X2.pdf\")"
   ]
  },
  {
   "cell_type": "code",
   "execution_count": null,
   "metadata": {},
   "outputs": [],
   "source": [
    "plt.plot(X[998,:],X[999,:],'.')\n",
    "plt.xlabel(\"$X_{999}$\")\n",
    "plt.ylabel(\"$X_{1000}$\")\n",
    "plt.savefig(\"MT19937_X999X1000.pdf\")"
   ]
  },
  {
   "cell_type": "code",
   "execution_count": null,
   "metadata": {},
   "outputs": [],
   "source": []
  }
 ],
 "metadata": {
  "kernelspec": {
   "display_name": "Python 3",
   "language": "python",
   "name": "python3"
  },
  "language_info": {
   "codemirror_mode": {
    "name": "ipython",
    "version": 3
   },
   "file_extension": ".py",
   "mimetype": "text/x-python",
   "name": "python",
   "nbconvert_exporter": "python",
   "pygments_lexer": "ipython3",
   "version": "3.6.5"
  }
 },
 "nbformat": 4,
 "nbformat_minor": 2
}
